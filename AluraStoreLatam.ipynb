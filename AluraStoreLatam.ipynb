{
  "nbformat": 4,
  "nbformat_minor": 0,
  "metadata": {
    "colab": {
      "provenance": []
    },
    "kernelspec": {
      "name": "python3",
      "display_name": "Python 3"
    },
    "language_info": {
      "name": "python"
    }
  },
  "cells": [
    {
      "cell_type": "markdown",
      "source": [
        "### Importación de datos\n",
        "\n"
      ],
      "metadata": {
        "id": "RhEdWd9YUR6H"
      }
    },
    {
      "cell_type": "code",
      "execution_count": 259,
      "metadata": {
        "colab": {
          "base_uri": "https://localhost:8080/",
          "height": 310
        },
        "id": "T3EvaeQ_INIL",
        "outputId": "8927973c-ca96-4054-b9d9-0804dcbbf913"
      },
      "outputs": [
        {
          "output_type": "execute_result",
          "data": {
            "text/plain": [
              "            Producto Categoría del Producto    Precio  Costo de envío  \\\n",
              "0  Asistente virtual           Electrónicos  164300.0          6900.0   \n",
              "1    Mesa de comedor                Muebles  192300.0          8400.0   \n",
              "2      Juego de mesa               Juguetes  209600.0         15900.0   \n",
              "3         Microondas      Electrodomésticos  757500.0         41000.0   \n",
              "4   Silla de oficina                Muebles  335200.0         20200.0   \n",
              "\n",
              "  Fecha de Compra         Vendedor Lugar de Compra  Calificación  \\\n",
              "0      16/01/2021      Pedro Gomez          Bogotá             4   \n",
              "1      18/05/2022  Beatriz Morales        Medellín             1   \n",
              "2      15/03/2021   Juan Fernandez       Cartagena             1   \n",
              "3      03/05/2022   Juan Fernandez            Cali             4   \n",
              "4      07/11/2020    Maria Alfonso        Medellín             5   \n",
              "\n",
              "       Método de pago  Cantidad de cuotas       lat       lon  \n",
              "0  Tarjeta de crédito                   8   4.60971 -74.08175  \n",
              "1  Tarjeta de crédito                   4   6.25184 -75.56359  \n",
              "2  Tarjeta de crédito                   1  10.39972 -75.51444  \n",
              "3               Nequi                   1   3.43722 -76.52250  \n",
              "4               Nequi                   1   6.25184 -75.56359  "
            ],
            "text/html": [
              "\n",
              "  <div id=\"df-0a1b4a4a-1522-42a3-a299-f2226b4d5ac7\" class=\"colab-df-container\">\n",
              "    <div>\n",
              "<style scoped>\n",
              "    .dataframe tbody tr th:only-of-type {\n",
              "        vertical-align: middle;\n",
              "    }\n",
              "\n",
              "    .dataframe tbody tr th {\n",
              "        vertical-align: top;\n",
              "    }\n",
              "\n",
              "    .dataframe thead th {\n",
              "        text-align: right;\n",
              "    }\n",
              "</style>\n",
              "<table border=\"1\" class=\"dataframe\">\n",
              "  <thead>\n",
              "    <tr style=\"text-align: right;\">\n",
              "      <th></th>\n",
              "      <th>Producto</th>\n",
              "      <th>Categoría del Producto</th>\n",
              "      <th>Precio</th>\n",
              "      <th>Costo de envío</th>\n",
              "      <th>Fecha de Compra</th>\n",
              "      <th>Vendedor</th>\n",
              "      <th>Lugar de Compra</th>\n",
              "      <th>Calificación</th>\n",
              "      <th>Método de pago</th>\n",
              "      <th>Cantidad de cuotas</th>\n",
              "      <th>lat</th>\n",
              "      <th>lon</th>\n",
              "    </tr>\n",
              "  </thead>\n",
              "  <tbody>\n",
              "    <tr>\n",
              "      <th>0</th>\n",
              "      <td>Asistente virtual</td>\n",
              "      <td>Electrónicos</td>\n",
              "      <td>164300.0</td>\n",
              "      <td>6900.0</td>\n",
              "      <td>16/01/2021</td>\n",
              "      <td>Pedro Gomez</td>\n",
              "      <td>Bogotá</td>\n",
              "      <td>4</td>\n",
              "      <td>Tarjeta de crédito</td>\n",
              "      <td>8</td>\n",
              "      <td>4.60971</td>\n",
              "      <td>-74.08175</td>\n",
              "    </tr>\n",
              "    <tr>\n",
              "      <th>1</th>\n",
              "      <td>Mesa de comedor</td>\n",
              "      <td>Muebles</td>\n",
              "      <td>192300.0</td>\n",
              "      <td>8400.0</td>\n",
              "      <td>18/05/2022</td>\n",
              "      <td>Beatriz Morales</td>\n",
              "      <td>Medellín</td>\n",
              "      <td>1</td>\n",
              "      <td>Tarjeta de crédito</td>\n",
              "      <td>4</td>\n",
              "      <td>6.25184</td>\n",
              "      <td>-75.56359</td>\n",
              "    </tr>\n",
              "    <tr>\n",
              "      <th>2</th>\n",
              "      <td>Juego de mesa</td>\n",
              "      <td>Juguetes</td>\n",
              "      <td>209600.0</td>\n",
              "      <td>15900.0</td>\n",
              "      <td>15/03/2021</td>\n",
              "      <td>Juan Fernandez</td>\n",
              "      <td>Cartagena</td>\n",
              "      <td>1</td>\n",
              "      <td>Tarjeta de crédito</td>\n",
              "      <td>1</td>\n",
              "      <td>10.39972</td>\n",
              "      <td>-75.51444</td>\n",
              "    </tr>\n",
              "    <tr>\n",
              "      <th>3</th>\n",
              "      <td>Microondas</td>\n",
              "      <td>Electrodomésticos</td>\n",
              "      <td>757500.0</td>\n",
              "      <td>41000.0</td>\n",
              "      <td>03/05/2022</td>\n",
              "      <td>Juan Fernandez</td>\n",
              "      <td>Cali</td>\n",
              "      <td>4</td>\n",
              "      <td>Nequi</td>\n",
              "      <td>1</td>\n",
              "      <td>3.43722</td>\n",
              "      <td>-76.52250</td>\n",
              "    </tr>\n",
              "    <tr>\n",
              "      <th>4</th>\n",
              "      <td>Silla de oficina</td>\n",
              "      <td>Muebles</td>\n",
              "      <td>335200.0</td>\n",
              "      <td>20200.0</td>\n",
              "      <td>07/11/2020</td>\n",
              "      <td>Maria Alfonso</td>\n",
              "      <td>Medellín</td>\n",
              "      <td>5</td>\n",
              "      <td>Nequi</td>\n",
              "      <td>1</td>\n",
              "      <td>6.25184</td>\n",
              "      <td>-75.56359</td>\n",
              "    </tr>\n",
              "  </tbody>\n",
              "</table>\n",
              "</div>\n",
              "    <div class=\"colab-df-buttons\">\n",
              "\n",
              "  <div class=\"colab-df-container\">\n",
              "    <button class=\"colab-df-convert\" onclick=\"convertToInteractive('df-0a1b4a4a-1522-42a3-a299-f2226b4d5ac7')\"\n",
              "            title=\"Convert this dataframe to an interactive table.\"\n",
              "            style=\"display:none;\">\n",
              "\n",
              "  <svg xmlns=\"http://www.w3.org/2000/svg\" height=\"24px\" viewBox=\"0 -960 960 960\">\n",
              "    <path d=\"M120-120v-720h720v720H120Zm60-500h600v-160H180v160Zm220 220h160v-160H400v160Zm0 220h160v-160H400v160ZM180-400h160v-160H180v160Zm440 0h160v-160H620v160ZM180-180h160v-160H180v160Zm440 0h160v-160H620v160Z\"/>\n",
              "  </svg>\n",
              "    </button>\n",
              "\n",
              "  <style>\n",
              "    .colab-df-container {\n",
              "      display:flex;\n",
              "      gap: 12px;\n",
              "    }\n",
              "\n",
              "    .colab-df-convert {\n",
              "      background-color: #E8F0FE;\n",
              "      border: none;\n",
              "      border-radius: 50%;\n",
              "      cursor: pointer;\n",
              "      display: none;\n",
              "      fill: #1967D2;\n",
              "      height: 32px;\n",
              "      padding: 0 0 0 0;\n",
              "      width: 32px;\n",
              "    }\n",
              "\n",
              "    .colab-df-convert:hover {\n",
              "      background-color: #E2EBFA;\n",
              "      box-shadow: 0px 1px 2px rgba(60, 64, 67, 0.3), 0px 1px 3px 1px rgba(60, 64, 67, 0.15);\n",
              "      fill: #174EA6;\n",
              "    }\n",
              "\n",
              "    .colab-df-buttons div {\n",
              "      margin-bottom: 4px;\n",
              "    }\n",
              "\n",
              "    [theme=dark] .colab-df-convert {\n",
              "      background-color: #3B4455;\n",
              "      fill: #D2E3FC;\n",
              "    }\n",
              "\n",
              "    [theme=dark] .colab-df-convert:hover {\n",
              "      background-color: #434B5C;\n",
              "      box-shadow: 0px 1px 3px 1px rgba(0, 0, 0, 0.15);\n",
              "      filter: drop-shadow(0px 1px 2px rgba(0, 0, 0, 0.3));\n",
              "      fill: #FFFFFF;\n",
              "    }\n",
              "  </style>\n",
              "\n",
              "    <script>\n",
              "      const buttonEl =\n",
              "        document.querySelector('#df-0a1b4a4a-1522-42a3-a299-f2226b4d5ac7 button.colab-df-convert');\n",
              "      buttonEl.style.display =\n",
              "        google.colab.kernel.accessAllowed ? 'block' : 'none';\n",
              "\n",
              "      async function convertToInteractive(key) {\n",
              "        const element = document.querySelector('#df-0a1b4a4a-1522-42a3-a299-f2226b4d5ac7');\n",
              "        const dataTable =\n",
              "          await google.colab.kernel.invokeFunction('convertToInteractive',\n",
              "                                                    [key], {});\n",
              "        if (!dataTable) return;\n",
              "\n",
              "        const docLinkHtml = 'Like what you see? Visit the ' +\n",
              "          '<a target=\"_blank\" href=https://colab.research.google.com/notebooks/data_table.ipynb>data table notebook</a>'\n",
              "          + ' to learn more about interactive tables.';\n",
              "        element.innerHTML = '';\n",
              "        dataTable['output_type'] = 'display_data';\n",
              "        await google.colab.output.renderOutput(dataTable, element);\n",
              "        const docLink = document.createElement('div');\n",
              "        docLink.innerHTML = docLinkHtml;\n",
              "        element.appendChild(docLink);\n",
              "      }\n",
              "    </script>\n",
              "  </div>\n",
              "\n",
              "\n",
              "<div id=\"df-d2d5920d-4dc1-4e6c-ba55-6473a6405c6e\">\n",
              "  <button class=\"colab-df-quickchart\" onclick=\"quickchart('df-d2d5920d-4dc1-4e6c-ba55-6473a6405c6e')\"\n",
              "            title=\"Suggest charts\"\n",
              "            style=\"display:none;\">\n",
              "\n",
              "<svg xmlns=\"http://www.w3.org/2000/svg\" height=\"24px\"viewBox=\"0 0 24 24\"\n",
              "     width=\"24px\">\n",
              "    <g>\n",
              "        <path d=\"M19 3H5c-1.1 0-2 .9-2 2v14c0 1.1.9 2 2 2h14c1.1 0 2-.9 2-2V5c0-1.1-.9-2-2-2zM9 17H7v-7h2v7zm4 0h-2V7h2v10zm4 0h-2v-4h2v4z\"/>\n",
              "    </g>\n",
              "</svg>\n",
              "  </button>\n",
              "\n",
              "<style>\n",
              "  .colab-df-quickchart {\n",
              "      --bg-color: #E8F0FE;\n",
              "      --fill-color: #1967D2;\n",
              "      --hover-bg-color: #E2EBFA;\n",
              "      --hover-fill-color: #174EA6;\n",
              "      --disabled-fill-color: #AAA;\n",
              "      --disabled-bg-color: #DDD;\n",
              "  }\n",
              "\n",
              "  [theme=dark] .colab-df-quickchart {\n",
              "      --bg-color: #3B4455;\n",
              "      --fill-color: #D2E3FC;\n",
              "      --hover-bg-color: #434B5C;\n",
              "      --hover-fill-color: #FFFFFF;\n",
              "      --disabled-bg-color: #3B4455;\n",
              "      --disabled-fill-color: #666;\n",
              "  }\n",
              "\n",
              "  .colab-df-quickchart {\n",
              "    background-color: var(--bg-color);\n",
              "    border: none;\n",
              "    border-radius: 50%;\n",
              "    cursor: pointer;\n",
              "    display: none;\n",
              "    fill: var(--fill-color);\n",
              "    height: 32px;\n",
              "    padding: 0;\n",
              "    width: 32px;\n",
              "  }\n",
              "\n",
              "  .colab-df-quickchart:hover {\n",
              "    background-color: var(--hover-bg-color);\n",
              "    box-shadow: 0 1px 2px rgba(60, 64, 67, 0.3), 0 1px 3px 1px rgba(60, 64, 67, 0.15);\n",
              "    fill: var(--button-hover-fill-color);\n",
              "  }\n",
              "\n",
              "  .colab-df-quickchart-complete:disabled,\n",
              "  .colab-df-quickchart-complete:disabled:hover {\n",
              "    background-color: var(--disabled-bg-color);\n",
              "    fill: var(--disabled-fill-color);\n",
              "    box-shadow: none;\n",
              "  }\n",
              "\n",
              "  .colab-df-spinner {\n",
              "    border: 2px solid var(--fill-color);\n",
              "    border-color: transparent;\n",
              "    border-bottom-color: var(--fill-color);\n",
              "    animation:\n",
              "      spin 1s steps(1) infinite;\n",
              "  }\n",
              "\n",
              "  @keyframes spin {\n",
              "    0% {\n",
              "      border-color: transparent;\n",
              "      border-bottom-color: var(--fill-color);\n",
              "      border-left-color: var(--fill-color);\n",
              "    }\n",
              "    20% {\n",
              "      border-color: transparent;\n",
              "      border-left-color: var(--fill-color);\n",
              "      border-top-color: var(--fill-color);\n",
              "    }\n",
              "    30% {\n",
              "      border-color: transparent;\n",
              "      border-left-color: var(--fill-color);\n",
              "      border-top-color: var(--fill-color);\n",
              "      border-right-color: var(--fill-color);\n",
              "    }\n",
              "    40% {\n",
              "      border-color: transparent;\n",
              "      border-right-color: var(--fill-color);\n",
              "      border-top-color: var(--fill-color);\n",
              "    }\n",
              "    60% {\n",
              "      border-color: transparent;\n",
              "      border-right-color: var(--fill-color);\n",
              "    }\n",
              "    80% {\n",
              "      border-color: transparent;\n",
              "      border-right-color: var(--fill-color);\n",
              "      border-bottom-color: var(--fill-color);\n",
              "    }\n",
              "    90% {\n",
              "      border-color: transparent;\n",
              "      border-bottom-color: var(--fill-color);\n",
              "    }\n",
              "  }\n",
              "</style>\n",
              "\n",
              "  <script>\n",
              "    async function quickchart(key) {\n",
              "      const quickchartButtonEl =\n",
              "        document.querySelector('#' + key + ' button');\n",
              "      quickchartButtonEl.disabled = true;  // To prevent multiple clicks.\n",
              "      quickchartButtonEl.classList.add('colab-df-spinner');\n",
              "      try {\n",
              "        const charts = await google.colab.kernel.invokeFunction(\n",
              "            'suggestCharts', [key], {});\n",
              "      } catch (error) {\n",
              "        console.error('Error during call to suggestCharts:', error);\n",
              "      }\n",
              "      quickchartButtonEl.classList.remove('colab-df-spinner');\n",
              "      quickchartButtonEl.classList.add('colab-df-quickchart-complete');\n",
              "    }\n",
              "    (() => {\n",
              "      let quickchartButtonEl =\n",
              "        document.querySelector('#df-d2d5920d-4dc1-4e6c-ba55-6473a6405c6e button');\n",
              "      quickchartButtonEl.style.display =\n",
              "        google.colab.kernel.accessAllowed ? 'block' : 'none';\n",
              "    })();\n",
              "  </script>\n",
              "</div>\n",
              "\n",
              "    </div>\n",
              "  </div>\n"
            ],
            "application/vnd.google.colaboratory.intrinsic+json": {
              "type": "dataframe",
              "variable_name": "tienda",
              "summary": "{\n  \"name\": \"tienda\",\n  \"rows\": 2359,\n  \"fields\": [\n    {\n      \"column\": \"Producto\",\n      \"properties\": {\n        \"dtype\": \"category\",\n        \"num_unique_values\": 51,\n        \"samples\": [\n          \"Guitarra ac\\u00fastica\",\n          \"Bal\\u00f3n de baloncesto\",\n          \"Smartwatch\"\n        ],\n        \"semantic_type\": \"\",\n        \"description\": \"\"\n      }\n    },\n    {\n      \"column\": \"Categor\\u00eda del Producto\",\n      \"properties\": {\n        \"dtype\": \"category\",\n        \"num_unique_values\": 8,\n        \"samples\": [\n          \"Muebles\",\n          \"Deportes y diversi\\u00f3n\",\n          \"Electr\\u00f3nicos\"\n        ],\n        \"semantic_type\": \"\",\n        \"description\": \"\"\n      }\n    },\n    {\n      \"column\": \"Precio\",\n      \"properties\": {\n        \"dtype\": \"number\",\n        \"std\": 614686.7653873172,\n        \"min\": 7600.0,\n        \"max\": 2977000.0,\n        \"num_unique_values\": 1937,\n        \"samples\": [\n          2499400.0,\n          14800.0,\n          80500.0\n        ],\n        \"semantic_type\": \"\",\n        \"description\": \"\"\n      }\n    },\n    {\n      \"column\": \"Costo de env\\u00edo\",\n      \"properties\": {\n        \"dtype\": \"number\",\n        \"std\": 32860.0017825605,\n        \"min\": 0.0,\n        \"max\": 160800.0,\n        \"num_unique_values\": 753,\n        \"samples\": [\n          117800.0,\n          54700.0,\n          45600.0\n        ],\n        \"semantic_type\": \"\",\n        \"description\": \"\"\n      }\n    },\n    {\n      \"column\": \"Fecha de Compra\",\n      \"properties\": {\n        \"dtype\": \"object\",\n        \"num_unique_values\": 1018,\n        \"samples\": [\n          \"15/09/2022\",\n          \"03/06/2020\",\n          \"06/11/2021\"\n        ],\n        \"semantic_type\": \"\",\n        \"description\": \"\"\n      }\n    },\n    {\n      \"column\": \"Vendedor\",\n      \"properties\": {\n        \"dtype\": \"category\",\n        \"num_unique_values\": 14,\n        \"samples\": [\n          \"Juliana Costa\",\n          \"Mariana Herrera\",\n          \"Pedro Gomez\"\n        ],\n        \"semantic_type\": \"\",\n        \"description\": \"\"\n      }\n    },\n    {\n      \"column\": \"Lugar de Compra\",\n      \"properties\": {\n        \"dtype\": \"category\",\n        \"num_unique_values\": 19,\n        \"samples\": [\n          \"Bogot\\u00e1\",\n          \"Pereira\",\n          \"Neiva\"\n        ],\n        \"semantic_type\": \"\",\n        \"description\": \"\"\n      }\n    },\n    {\n      \"column\": \"Calificaci\\u00f3n\",\n      \"properties\": {\n        \"dtype\": \"number\",\n        \"std\": 1,\n        \"min\": 1,\n        \"max\": 5,\n        \"num_unique_values\": 5,\n        \"samples\": [\n          1,\n          2,\n          5\n        ],\n        \"semantic_type\": \"\",\n        \"description\": \"\"\n      }\n    },\n    {\n      \"column\": \"M\\u00e9todo de pago\",\n      \"properties\": {\n        \"dtype\": \"category\",\n        \"num_unique_values\": 4,\n        \"samples\": [\n          \"Nequi\",\n          \"Tarjeta de d\\u00e9bito\",\n          \"Tarjeta de cr\\u00e9dito\"\n        ],\n        \"semantic_type\": \"\",\n        \"description\": \"\"\n      }\n    },\n    {\n      \"column\": \"Cantidad de cuotas\",\n      \"properties\": {\n        \"dtype\": \"number\",\n        \"std\": 2,\n        \"min\": 1,\n        \"max\": 24,\n        \"num_unique_values\": 15,\n        \"samples\": [\n          7,\n          14,\n          8\n        ],\n        \"semantic_type\": \"\",\n        \"description\": \"\"\n      }\n    },\n    {\n      \"column\": \"lat\",\n      \"properties\": {\n        \"dtype\": \"number\",\n        \"std\": 2.2874452492678627,\n        \"min\": -4.21528,\n        \"max\": 11.54444,\n        \"num_unique_values\": 19,\n        \"samples\": [\n          4.60971,\n          4.81333,\n          2.9273\n        ],\n        \"semantic_type\": \"\",\n        \"description\": \"\"\n      }\n    },\n    {\n      \"column\": \"lon\",\n      \"properties\": {\n        \"dtype\": \"number\",\n        \"std\": 1.2178272727088486,\n        \"min\": -77.28111,\n        \"max\": -67.9239,\n        \"num_unique_values\": 19,\n        \"samples\": [\n          -74.08175,\n          -75.69611,\n          -75.28189\n        ],\n        \"semantic_type\": \"\",\n        \"description\": \"\"\n      }\n    }\n  ]\n}"
            }
          },
          "metadata": {},
          "execution_count": 259
        }
      ],
      "source": [
        "import pandas as pd\n",
        "import matplotlib.pyplot as plt\n",
        "import seaborn as sns\n",
        "import numpy as np\n",
        "\n",
        "\n",
        "\n",
        "url = \"https://raw.githubusercontent.com/alura-es-cursos/challenge1-data-science-latam/refs/heads/main/base-de-datos-challenge1-latam/tienda_1%20.csv\"\n",
        "url2 = \"https://raw.githubusercontent.com/alura-es-cursos/challenge1-data-science-latam/refs/heads/main/base-de-datos-challenge1-latam/tienda_2.csv\"\n",
        "url3 = \"https://raw.githubusercontent.com/alura-es-cursos/challenge1-data-science-latam/refs/heads/main/base-de-datos-challenge1-latam/tienda_3.csv\"\n",
        "url4 = \"https://raw.githubusercontent.com/alura-es-cursos/challenge1-data-science-latam/refs/heads/main/base-de-datos-challenge1-latam/tienda_4.csv\"\n",
        "\n",
        "tienda = pd.read_csv(url)\n",
        "tienda2 = pd.read_csv(url2)\n",
        "tienda3 = pd.read_csv(url3)\n",
        "tienda4 = pd.read_csv(url4)\n",
        "\n",
        "tienda.head()"
      ]
    },
    {
      "cell_type": "markdown",
      "source": [
        "#1. Análisis de facturación\n",
        "\n"
      ],
      "metadata": {
        "id": "X62IW3KFUIYm"
      }
    },
    {
      "cell_type": "markdown",
      "source": [
        "Obtencion de datos de precio de las tiendas"
      ],
      "metadata": {
        "id": "oNED0O0jrnsU"
      }
    },
    {
      "cell_type": "code",
      "source": [
        "\n",
        "facturacion = {\n",
        "    \"tienda\": tienda[\"Precio\"].sum(),\n",
        "    \"tienda2\": tienda2[\"Precio\"].sum(),\n",
        "    \"tienda3\": tienda3[\"Precio\"].sum(),\n",
        "    \"tienda4\": tienda4[\"Precio\"].sum()\n",
        "}"
      ],
      "metadata": {
        "id": "xykobSftV64I"
      },
      "execution_count": 261,
      "outputs": []
    },
    {
      "cell_type": "markdown",
      "source": [
        "Creacion de dataframe\n",
        "\n",
        "\n",
        "\n",
        "\n",
        "\n"
      ],
      "metadata": {
        "id": "3WmnECWmsCj4"
      }
    },
    {
      "cell_type": "code",
      "source": [
        "df_facturacion = pd.DataFrame(list(facturacion.items()), columns=[\"Tienda\", \"Facturación Total\"])"
      ],
      "metadata": {
        "id": "M9JgJB6Tr2nU"
      },
      "execution_count": 262,
      "outputs": []
    },
    {
      "cell_type": "markdown",
      "source": [
        "visualizacion de la informcion de dataframe"
      ],
      "metadata": {
        "id": "OhD_JQRTs8C-"
      }
    },
    {
      "cell_type": "code",
      "source": [
        "print(\"\\nFacturación Total por Tienda:\")\n",
        "print(df_facturacion)"
      ],
      "metadata": {
        "colab": {
          "base_uri": "https://localhost:8080/"
        },
        "id": "DTmvXLLRs1Eu",
        "outputId": "3b3bb1c5-2648-4bc0-b4bc-7341e9d33cea"
      },
      "execution_count": 224,
      "outputs": [
        {
          "output_type": "stream",
          "name": "stdout",
          "text": [
            "\n",
            "Facturación Total por Tienda:\n",
            "     Tienda  Facturación Total\n",
            "0   tienda        1.150880e+09\n",
            "1  tienda 2       1.116344e+09\n",
            "2  tienda 3       1.098020e+09\n",
            "3  tienda 4       1.038376e+09\n"
          ]
        }
      ]
    },
    {
      "cell_type": "markdown",
      "source": [
        "Creacion del grafico"
      ],
      "metadata": {
        "id": "oI8i-5fQFYlp"
      }
    },
    {
      "cell_type": "code",
      "source": [
        "plt.figure(figsize=(8, 5))\n",
        "plt.bar(df_facturacion[\"Tienda\"], df_facturacion[\"Facturación Total\"], color='cornflowerblue')\n",
        "plt.ylabel(\"Facturación Total ($)\")\n",
        "plt.title(\"Comparación de Facturación Total por Tienda\")\n",
        "plt.tight_layout()\n",
        "plt.show()"
      ],
      "metadata": {
        "id": "ssfDi8cJwthT",
        "outputId": "6b45c1a2-be0d-4673-91ca-98cabf28bdcd",
        "colab": {
          "base_uri": "https://localhost:8080/",
          "height": 507
        }
      },
      "execution_count": 225,
      "outputs": [
        {
          "output_type": "display_data",
          "data": {
            "text/plain": [
              "<Figure size 800x500 with 1 Axes>"
            ],
            "image/png": "[encoded data removed]"
          },
          "metadata": {}
        }
      ]
    },
    {
      "cell_type": "markdown",
      "source": [
        "segun este analisis el ranquing de facturacion de cada tienda es :\n",
        "\n",
        "\n",
        "\n",
        "1.   Facturacion de la tienda 1 es: $ 1150880400\n",
        "\n",
        "2.   Facturacion de la tienda 2 es: $ 1116343500\n",
        "\n",
        "3.   Facturacion de la tienda 3 es: $ 1098019600\n",
        "\n",
        "4.   Facturacion de la tienda 4 es: $ 1038375700\n",
        "\n",
        "\n",
        "\n",
        "Segun el analisi de facturacion la tienda con mayor facturacion es la tienda 1 y la con menor facturacion es la tienda 4\n",
        "\n"
      ],
      "metadata": {
        "id": "mOyOdT_73SZf"
      }
    },
    {
      "cell_type": "markdown",
      "source": [
        "# 2. Ventas por categoría"
      ],
      "metadata": {
        "id": "2V_vcAPzWZmR"
      }
    },
    {
      "cell_type": "markdown",
      "source": [
        "funcion para calcular las ventas por categoria para cada tienda"
      ],
      "metadata": {
        "id": "IOCSsZP12jww"
      }
    },
    {
      "cell_type": "code",
      "source": [
        "def ventas_por_categoria(df, nombre_tienda):\n",
        "    ventas = df.groupby(\"Categoría del Producto\")[\"Precio\"].sum().reset_index()\n",
        "    ventas.columns = [\"Categoría\", nombre_tienda]\n",
        "    return ventas"
      ],
      "metadata": {
        "id": "A34YupIuYhfF"
      },
      "execution_count": 226,
      "outputs": []
    },
    {
      "cell_type": "markdown",
      "source": [
        "aplicar el calculo de la funcion a cada tienda"
      ],
      "metadata": {
        "id": "Vev9mo3-2wZo"
      }
    },
    {
      "cell_type": "code",
      "source": [
        "ventas1 = ventas_por_categoria(tienda, \"Tienda 1\")\n",
        "ventas2 = ventas_por_categoria(tienda2, \"Tienda 2\")\n",
        "ventas3 = ventas_por_categoria(tienda3, \"Tienda 3\")\n",
        "ventas4 = ventas_por_categoria(tienda4, \"Tienda 4\")\n"
      ],
      "metadata": {
        "id": "wqKSx3pu0B97"
      },
      "execution_count": 227,
      "outputs": []
    },
    {
      "cell_type": "markdown",
      "source": [
        "unir los resultados de las 4 tiendas para su comparacion"
      ],
      "metadata": {
        "id": "ak7KVwNX23o4"
      }
    },
    {
      "cell_type": "code",
      "source": [
        "comparacion = ventas1.merge(ventas2, on=\"Categoría\", how=\"outer\")\n",
        "comparacion = comparacion.merge(ventas3, on=\"Categoría\", how=\"outer\")\n",
        "comparacion = comparacion.merge(ventas4, on=\"Categoría\", how=\"outer\")\n",
        "comparacion = comparacion.fillna(0)  # Llenar vacíos con 0\n",
        "\n",
        "\n",
        "\n"
      ],
      "metadata": {
        "id": "Eaf5cbzV10Dd"
      },
      "execution_count": 228,
      "outputs": []
    },
    {
      "cell_type": "markdown",
      "source": [
        "tabla comparativa de las ventas por categoria de cada tienda"
      ],
      "metadata": {
        "id": "uT6P588C3BY-"
      }
    },
    {
      "cell_type": "markdown",
      "source": [
        "generacion de grafico de ventas por categorias"
      ],
      "metadata": {
        "id": "TsQNafX33H8-"
      }
    },
    {
      "cell_type": "code",
      "source": [
        "comparacion.set_index(\"Categoría\").plot(kind=\"bar\", figsize=(12, 6))\n",
        "plt.title(\"Comparación de Ventas por Categoría entre Tiendas\")\n",
        "plt.xlabel(\"Categoría del Producto\")\n",
        "plt.ylabel(\"Venta Total\")\n",
        "plt.xticks(rotation=45)\n",
        "plt.tight_layout()\n",
        "plt.legend(title=\"Tiendas\")\n",
        "plt.show()"
      ],
      "metadata": {
        "colab": {
          "base_uri": "https://localhost:8080/",
          "height": 607
        },
        "id": "ZDn52umk2XTv",
        "outputId": "ce49293f-242e-43a6-8982-7a932fd26ff3"
      },
      "execution_count": 229,
      "outputs": [
        {
          "output_type": "display_data",
          "data": {
            "text/plain": [
              "<Figure size 1200x600 with 1 Axes>"
            ],
            "image/png": "[encoded data removed]"
          },
          "metadata": {}
        }
      ]
    },
    {
      "cell_type": "markdown",
      "source": [
        "en este analisis se aprecia que para todas las tiendas la categoria que se dispara por sobre las otras es articulos electronicos.\n",
        "\n",
        "quedando el ranquing de la siguiente forma:\n",
        "\n",
        "1.   Tienda 1 con $429493500 de ventas\n",
        "\n",
        "2.   Tienda 2 con $410831100 de ventas\n",
        "\n",
        "3.   Tienda 3 con $410775800 de ventas\n",
        "\n",
        "4.   Tienda 4 con $409476100 de ventas\n",
        "\n",
        "\n",
        "siendo la tienda con mejores ventas en la catagoria de electronica la \"Tienda 1\" y la con peores ventas en la misma categoria la \"Tienda 4\"\n",
        "\n"
      ],
      "metadata": {
        "id": "5-IQUZ4lec_B"
      }
    },
    {
      "cell_type": "markdown",
      "source": [
        "# 3. Calificación promedio de la tienda\n"
      ],
      "metadata": {
        "id": "Rq6tU_xSY3jk"
      }
    },
    {
      "cell_type": "markdown",
      "source": [
        "Calcular calificación promedio por tienda"
      ],
      "metadata": {
        "id": "teJBVBT-gTmK"
      }
    },
    {
      "cell_type": "code",
      "source": [
        "calificaciones = {\n",
        "    \"tienda \": tienda1[\"Calificación\"].mean(),\n",
        "    \"tienda 2\": tienda2[\"Calificación\"].mean(),\n",
        "    \"tienda 3\": tienda3[\"Calificación\"].mean(),\n",
        "    \"tienda 4\": tienda4[\"Calificación\"].mean()\n",
        "}"
      ],
      "metadata": {
        "id": "bh3jjjJwY5MU"
      },
      "execution_count": 231,
      "outputs": []
    },
    {
      "cell_type": "markdown",
      "source": [
        "Convertir a DataFrame para mostrar y graficar"
      ],
      "metadata": {
        "id": "HxZ9DLUihIcq"
      }
    },
    {
      "cell_type": "code",
      "source": [
        "df_calificaciones = pd.DataFrame(list(calificaciones.items()), columns=[\"Tienda\", \"Calificación Promedio\"])"
      ],
      "metadata": {
        "id": "I0KkjPoTY88F"
      },
      "execution_count": 157,
      "outputs": []
    },
    {
      "cell_type": "markdown",
      "source": [
        "Mostrar tabla"
      ],
      "metadata": {
        "id": "kcLXTx03hSC9"
      }
    },
    {
      "cell_type": "code",
      "source": [
        "print(df_calificaciones)"
      ],
      "metadata": {
        "colab": {
          "base_uri": "https://localhost:8080/"
        },
        "id": "8zoEy4NmhTRy",
        "outputId": "60061bb3-3621-458f-cb5d-920a6718fded"
      },
      "execution_count": 158,
      "outputs": [
        {
          "output_type": "stream",
          "name": "stdout",
          "text": [
            "     Tienda  Calificación Promedio\n",
            "0   tienda                3.976685\n",
            "1  tienda 2               4.037304\n",
            "2  tienda 3               4.048326\n",
            "3  tienda 4               3.995759\n"
          ]
        }
      ]
    },
    {
      "cell_type": "markdown",
      "source": [
        "Graficar"
      ],
      "metadata": {
        "id": "O1bCzIEChWjZ"
      }
    },
    {
      "cell_type": "code",
      "source": [
        "plt.figure(figsize=(8, 5))\n",
        "plt.bar(df_calificaciones[\"Tienda\"], df_calificaciones[\"Calificación Promedio\"], color='orange')\n",
        "plt.ylim(0, 5)\n",
        "plt.ylabel(\"Calificación Promedio\")\n",
        "plt.title(\"Comparación de Calificación Promedio por Tienda\")\n",
        "plt.axhline(3, color='gray', linestyle='--', label=\"Referencia: 3\")\n",
        "plt.legend()\n",
        "plt.tight_layout()\n",
        "plt.show()"
      ],
      "metadata": {
        "colab": {
          "base_uri": "https://localhost:8080/",
          "height": 507
        },
        "id": "Ep5DJsaJhdjT",
        "outputId": "b0ef30cf-f968-47e8-a825-eea03484e505"
      },
      "execution_count": 159,
      "outputs": [
        {
          "output_type": "display_data",
          "data": {
            "text/plain": [
              "<Figure size 800x500 with 1 Axes>"
            ],
            "image/png": "[encoded data removed]"
          },
          "metadata": {}
        }
      ]
    },
    {
      "cell_type": "markdown",
      "source": [
        "Para este analisis la \"tienda\" que tiene mejor promedio de calificacion es:\n",
        "\n",
        "1.   Tienda 2 con 4.037304\n",
        "2.   Tienda 3 con 4.048326\n",
        "3.   Tienda 4 con 3.995759\n",
        "4.   Tienda 1 con 3.976685\n",
        "\n",
        "La tienda con mejor calificacion es la tianda 2 y la con peor calificacion es la tienda 1\n",
        "\n",
        "\n"
      ],
      "metadata": {
        "id": "zWe5IBYXhjKy"
      }
    },
    {
      "cell_type": "markdown",
      "source": [
        "# 4. Productos más y menos vendidos"
      ],
      "metadata": {
        "id": "DmNp1KPBZCm-"
      }
    },
    {
      "cell_type": "markdown",
      "source": [
        "Función para obtener los 3 productos mas vendidos y los 3 menos vendidos productos por ventas"
      ],
      "metadata": {
        "id": "tj6X70KBixgu"
      }
    },
    {
      "cell_type": "code",
      "source": [
        "def mejores_peores_productos(df, nombre_tienda):\n",
        "    ventas = df.groupby(\"Producto\")[\"Precio\"].sum().reset_index()\n",
        "    mejores3 = ventas.sort_values(by=\"Precio\", ascending=False).head(3)\n",
        "    peores3 = ventas.sort_values(by=\"Precio\", ascending=True).head(3)\n",
        "    return mejores3.assign(Tienda=nombre_tienda, Tipo=\"Mejores 3\"), peores3.assign(Tienda=nombre_tienda, Tipo=\"Peores 3\")"
      ],
      "metadata": {
        "id": "qoyjqijQZHfF"
      },
      "execution_count": 160,
      "outputs": []
    },
    {
      "cell_type": "markdown",
      "source": [
        "Obtener datos por tienda"
      ],
      "metadata": {
        "id": "Hfm6l-1sjFjf"
      }
    },
    {
      "cell_type": "code",
      "source": [
        "mejor1, peor1 = mejores_peores_productos(tienda, \"Tienda 1\")\n",
        "mejor2, peor2 = mejores_peores_productos(tienda2, \"Tienda 2\")\n",
        "mejor3, peor3 = mejores_peores_productos(tienda3, \"Tienda 3\")\n",
        "mejor4, peor4 = mejores_peores_productos(tienda4, \"Tienda 4\")"
      ],
      "metadata": {
        "id": "0Sw3sd4IZIGW"
      },
      "execution_count": 161,
      "outputs": []
    },
    {
      "cell_type": "markdown",
      "source": [
        "Unir todos"
      ],
      "metadata": {
        "id": "jBgQUPayjQ9_"
      }
    },
    {
      "cell_type": "code",
      "source": [
        "comparativo = pd.concat([mejor1, peor1, mejor2, peor2, mejor3, peor3, mejor4, peor4], ignore_index=True)"
      ],
      "metadata": {
        "id": "e0qdr7YqjUA5"
      },
      "execution_count": 162,
      "outputs": []
    },
    {
      "cell_type": "markdown",
      "source": [
        "Mostrar tabla"
      ],
      "metadata": {
        "id": "L6YHDE8HjZ49"
      }
    },
    {
      "cell_type": "code",
      "source": [
        "print(\"\\nComparativo Mejores y Peores 3 productos por tienda:\")\n",
        "print(comparativo.sort_values(by=[\"Tienda\", \"Tipo\", \"Precio\"], ascending=[True, True, False]))"
      ],
      "metadata": {
        "colab": {
          "base_uri": "https://localhost:8080/"
        },
        "id": "J2m9LAlljdiX",
        "outputId": "f5467012-772f-4158-efbd-4a1e805fbbd0"
      },
      "execution_count": 163,
      "outputs": [
        {
          "output_type": "stream",
          "name": "stdout",
          "text": [
            "\n",
            "Comparativo Mejores y Peores 3 productos por tienda:\n",
            "              Producto       Precio    Tienda       Tipo\n",
            "0        TV LED UHD 4K  142150200.0  Tienda 1  Mejores 3\n",
            "1         Refrigerador  112143300.0  Tienda 1  Mejores 3\n",
            "2            Iphone 15   97902200.0  Tienda 1  Mejores 3\n",
            "5      Cubo mágico 8x8     696900.0  Tienda 1   Peores 3\n",
            "4       Dinosaurio Rex     688900.0  Tienda 1   Peores 3\n",
            "3   Cuerda para saltar     652800.0  Tienda 1   Peores 3\n",
            "6            Iphone 15  113225800.0  Tienda 2  Mejores 3\n",
            "7        TV LED UHD 4K  103375000.0  Tienda 2  Mejores 3\n",
            "8         Refrigerador   97632500.0  Tienda 2  Mejores 3\n",
            "11  Cuerda para saltar     856900.0  Tienda 2   Peores 3\n",
            "10      Dinosaurio Rex     770300.0  Tienda 2   Peores 3\n",
            "9      Cubo mágico 8x8     643600.0  Tienda 2   Peores 3\n",
            "12        Refrigerador   99889700.0  Tienda 3  Mejores 3\n",
            "13       TV LED UHD 4K   96669100.0  Tienda 3  Mejores 3\n",
            "14           Iphone 15   93225700.0  Tienda 3  Mejores 3\n",
            "17  Cuerda para saltar     853800.0  Tienda 3   Peores 3\n",
            "16      Dinosaurio Rex     795600.0  Tienda 3   Peores 3\n",
            "15     Cubo mágico 8x8     640400.0  Tienda 3   Peores 3\n",
            "18           Iphone 15   96697500.0  Tienda 4  Mejores 3\n",
            "19       TV LED UHD 4K   90295300.0  Tienda 4  Mejores 3\n",
            "20            Smart TV   82790400.0  Tienda 4  Mejores 3\n",
            "23      Dinosaurio Rex     858100.0  Tienda 4   Peores 3\n",
            "22     Cubo mágico 8x8     748400.0  Tienda 4   Peores 3\n",
            "21  Cuerda para saltar     704800.0  Tienda 4   Peores 3\n"
          ]
        }
      ]
    },
    {
      "cell_type": "markdown",
      "source": [
        "Configurar gráfico"
      ],
      "metadata": {
        "id": "MWhIofxNjtDP"
      }
    },
    {
      "cell_type": "code",
      "source": [
        "plt.figure(figsize=(12, 7))\n",
        "sns.barplot(data=comparativo, x=\"Producto\", y=\"Precio\", hue=\"Tienda\", dodge=True)\n",
        "plt.xticks(rotation=45, ha='right')\n",
        "plt.title(\"Mejores y Peores 3 Productos por Tienda (por ventas totales)\")\n",
        "plt.ylabel(\"Ventas Totales ($)\")\n",
        "plt.xlabel(\"Producto\")\n",
        "plt.tight_layout()\n",
        "plt.show()"
      ],
      "metadata": {
        "colab": {
          "base_uri": "https://localhost:8080/",
          "height": 707
        },
        "id": "LnGEPsXjjuJc",
        "outputId": "7e5ff122-d917-413d-8966-257ad32fe4a4"
      },
      "execution_count": 164,
      "outputs": [
        {
          "output_type": "display_data",
          "data": {
            "text/plain": [
              "<Figure size 1200x700 with 1 Axes>"
            ],
            "image/png": "[encoded data removed]"
          },
          "metadata": {}
        }
      ]
    },
    {
      "cell_type": "markdown",
      "source": [
        "Para este analisis se toman los 3 productos mas vendidos y los tres menos vendidos de cada tienda , se representan de acuerdo al volumen de venta .\n",
        "\n",
        "se aprecia que casi para todas las tiendas los 3 productos mas vendidos son \"TV led uhd 4k\", \"Refrigerador\", \"Iphone 15\" pero los menos vendidos para las 4 tiendas son \"cuerda para saltar\", Dinosaurio rex\", cubo magico 8x8\".\n",
        "\n"
      ],
      "metadata": {
        "id": "MqOLI9kikBC_"
      }
    },
    {
      "cell_type": "markdown",
      "source": [
        "# 5. Envío promedio por tienda"
      ],
      "metadata": {
        "id": "Fl0cGi3bZKqU"
      }
    },
    {
      "cell_type": "markdown",
      "source": [
        "Leer los archivos"
      ],
      "metadata": {
        "id": "gNtY6t_jn1mF"
      }
    },
    {
      "cell_type": "code",
      "source": [
        "tienda = pd.read_csv(url)\n",
        "tienda2 = pd.read_csv(url2)\n",
        "tienda3 = pd.read_csv(url3)\n",
        "tienda4 = pd.read_csv(url4)"
      ],
      "metadata": {
        "id": "ZVR92RvWqeex"
      },
      "execution_count": 165,
      "outputs": []
    },
    {
      "cell_type": "markdown",
      "source": [
        "Calcular envío promedio por tienda"
      ],
      "metadata": {
        "id": "f_ZRxpLqrVGS"
      }
    },
    {
      "cell_type": "code",
      "source": [
        "envios = {\n",
        "    \"tienda \": tienda1[\"Costo de envío\"].mean(),\n",
        "    \"tienda 2\": tienda2[\"Costo de envío\"].mean(),\n",
        "    \"tienda 3\": tienda3[\"Costo de envío\"].mean(),\n",
        "    \"tienda 4\": tienda4[\"Costo de envío\"].mean()\n",
        "}"
      ],
      "metadata": {
        "id": "S2JeaCykZNy9"
      },
      "execution_count": 232,
      "outputs": []
    },
    {
      "cell_type": "markdown",
      "source": [
        "Crear DataFrame\n"
      ],
      "metadata": {
        "id": "fJuplRnqo9iQ"
      }
    },
    {
      "cell_type": "code",
      "source": [
        "df_envios = pd.DataFrame(list(envios.items()), columns=[\"Tienda\", \"Envío Promedio\"])"
      ],
      "metadata": {
        "id": "0tSdCie9ZQlt"
      },
      "execution_count": 233,
      "outputs": []
    },
    {
      "cell_type": "markdown",
      "source": [
        "mostrar tabla"
      ],
      "metadata": {
        "id": "zuifP5m2rj1Q"
      }
    },
    {
      "cell_type": "code",
      "source": [
        "print(\"\\nCosto de Envío Promedio por Tienda:\")\n",
        "print(df_envios)"
      ],
      "metadata": {
        "colab": {
          "base_uri": "https://localhost:8080/"
        },
        "id": "F7EYHzkVrmTE",
        "outputId": "0bf016c9-c44b-4eb3-f50c-e3190f10e8e3"
      },
      "execution_count": 234,
      "outputs": [
        {
          "output_type": "stream",
          "name": "stdout",
          "text": [
            "\n",
            "Costo de Envío Promedio por Tienda:\n",
            "     Tienda  Envío Promedio\n",
            "0   tienda     26018.609580\n",
            "1  tienda 2    25216.235693\n",
            "2  tienda 3    24805.680373\n",
            "3  tienda 4    23459.457167\n"
          ]
        }
      ]
    },
    {
      "cell_type": "markdown",
      "source": [
        "Graficar"
      ],
      "metadata": {
        "id": "d0uV59QEr4fw"
      }
    },
    {
      "cell_type": "code",
      "source": [
        "plt.figure(figsize=(8, 5))\n",
        "plt.bar(df_envios[\"Tienda\"], df_envios[\"Envío Promedio\"], color='mediumseagreen')\n",
        "plt.ylabel(\"Envío Promedio ($)\")\n",
        "plt.title(\"Comparación de Envío Promedio por Tienda\")\n",
        "plt.tight_layout()\n",
        "plt.show()"
      ],
      "metadata": {
        "colab": {
          "base_uri": "https://localhost:8080/",
          "height": 507
        },
        "id": "Cq8qNmp_r5r3",
        "outputId": "858a6164-2b3c-4526-f409-618d1df611d5"
      },
      "execution_count": 235,
      "outputs": [
        {
          "output_type": "display_data",
          "data": {
            "text/plain": [
              "<Figure size 800x500 with 1 Axes>"
            ],
            "image/png": "[encoded data removed]"
          },
          "metadata": {}
        }
      ]
    },
    {
      "cell_type": "markdown",
      "source": [
        "en este analis podemos indicar que la \"Tienda 1 # es la tienda con mayor envio promedio y la con peor desempeño es la \"Tienda 4\""
      ],
      "metadata": {
        "id": "9S-b5ARVsBBG"
      }
    },
    {
      "cell_type": "markdown",
      "source": [
        "analisis de los data frame de las tiendas"
      ],
      "metadata": {
        "id": "Ti5BLe2YsVK2"
      }
    },
    {
      "cell_type": "code",
      "source": [
        "facturacion = {\n",
        "    \"tienda \": tienda1[\"Precio\"].sum(),\n",
        "    \"tienda 2\": tienda2[\"Precio\"].sum(),\n",
        "    \"tienda 3\": tienda3[\"Precio\"].sum(),\n",
        "    \"tienda 4\": tienda4[\"Precio\"].sum()\n",
        "}\n",
        "\n",
        "df_facturacion = pd.DataFrame(list(facturacion.items()), columns=[\"Tienda\", \"Facturación Total\"])\n",
        "\n",
        "calificaciones = {\n",
        "    \"tienda \": tienda1[\"Calificación\"].mean(),\n",
        "    \"tienda 2\": tienda2[\"Calificación\"].mean(),\n",
        "    \"tienda 3\": tienda3[\"Calificación\"].mean(),\n",
        "    \"tienda 4\": tienda4[\"Calificación\"].mean()\n",
        "}\n",
        "\n",
        "\n",
        "df_calificaciones = pd.DataFrame(list(calificaciones.items()), columns=[\"Tienda\", \"Calificación Promedio\"])\n",
        "\n",
        "envios = {\n",
        "    \"tienda \": tienda1[\"Costo de envío\"].mean(),\n",
        "    \"tienda 2\": tienda2[\"Costo de envío\"].mean(),\n",
        "    \"tienda 3\": tienda3[\"Costo de envío\"].mean(),\n",
        "    \"tienda 4\": tienda4[\"Costo de envío\"].mean()\n",
        "}\n",
        "\n",
        "df_envios = pd.DataFrame(list(envios.items()), columns=[\"Tienda\", \"Envío Promedio\"])\n",
        "\n",
        "\n"
      ],
      "metadata": {
        "id": "Ti9lTnhy4W1p"
      },
      "execution_count": 237,
      "outputs": []
    },
    {
      "cell_type": "code",
      "source": [
        "# Limpiamos los nombres de tienda para que coincidan\n",
        "df_facturacion[\"Tienda\"] = df_facturacion[\"Tienda\"].str.strip()\n",
        "df_calificaciones[\"Tienda\"] = df_calificaciones[\"Tienda\"].str.strip()\n",
        "df_envios[\"Tienda\"] = df_envios[\"Tienda\"].str.strip()"
      ],
      "metadata": {
        "id": "t0oZKM4P128d"
      },
      "execution_count": 239,
      "outputs": []
    },
    {
      "cell_type": "code",
      "source": [
        "# Unimos los tres DataFrames por \"Tienda\"\n",
        "df_comparativo = df_facturacion \\\n",
        "    .merge(df_calificaciones, on=\"Tienda\") \\\n",
        "    .merge(df_envios, on=\"Tienda\")"
      ],
      "metadata": {
        "id": "FJnOYd1k44K9"
      },
      "execution_count": 240,
      "outputs": []
    },
    {
      "cell_type": "code",
      "source": [
        "# Mostramos el DataFrame combinado\n",
        "print(\"\\n📊 Comparativo de rendimiento de tiendas:\")\n",
        "print(df_comparativo)"
      ],
      "metadata": {
        "id": "Gql5TuwT47ew",
        "outputId": "c29b8b32-3b98-4e16-8640-81486ae47039",
        "colab": {
          "base_uri": "https://localhost:8080/"
        }
      },
      "execution_count": 241,
      "outputs": [
        {
          "output_type": "stream",
          "name": "stdout",
          "text": [
            "\n",
            "📊 Comparativo de rendimiento de tiendas:\n",
            "     Tienda  Facturación Total  Calificación Promedio  Envío Promedio\n",
            "0    tienda       1.150880e+09               3.976685    26018.609580\n",
            "1  tienda 2       1.116344e+09               4.037304    25216.235693\n",
            "2  tienda 3       1.098020e+09               4.048326    24805.680373\n",
            "3  tienda 4       1.038376e+09               3.995759    23459.457167\n"
          ]
        }
      ]
    },
    {
      "cell_type": "markdown",
      "source": [
        "Luego de hacer este extenso analisis   yo recomiendo que la tienda que se debe vender es la numero 4 ya que de los 5 analisis solicitados es la que mas veces quedo ultima en desempeño.-"
      ],
      "metadata": {
        "id": "dZFXe1nKEeyu"
      }
    }
  ]
}